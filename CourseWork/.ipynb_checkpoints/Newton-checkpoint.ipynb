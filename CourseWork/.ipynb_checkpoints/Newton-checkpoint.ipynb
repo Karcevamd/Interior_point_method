{
 "cells": [
  {
   "cell_type": "code",
   "execution_count": 1,
   "id": "6f00733f",
   "metadata": {},
   "outputs": [
    {
     "name": "stdout",
     "output_type": "stream",
     "text": [
      "Решение системы:  [0.70710678 0.70710678]\n"
     ]
    }
   ],
   "source": [
    "import numpy as np\n",
    "from scipy.optimize import fsolve\n",
    "\n",
    "def jacobian(f, x):\n",
    "    \"\"\"Вычисление Якобиана f в точке x.\"\"\"\n",
    "    n = len(x)\n",
    "    eps = np.sqrt(np.finfo(float).eps)\n",
    "    f_value = f(x)\n",
    "    jac = np.zeros([n, n])\n",
    "    dx = np.zeros(n)\n",
    "    for i in range(n):\n",
    "        dx[i] = eps\n",
    "        jac[:, i] = (f(x + dx) - f_value) / eps\n",
    "        dx[i] = 0.0\n",
    "    return jac, f_value\n",
    "\n",
    "def newton_method(f, x, eps):\n",
    "    \"\"\"Реализация метода Ньютона.\"\"\"\n",
    "    while True:\n",
    "        jac, f_value = jacobian(f, x)\n",
    "        dx = np.linalg.solve(jac, -f_value)\n",
    "        x += dx\n",
    "        if np.linalg.norm(dx) < eps:\n",
    "            break\n",
    "    return x\n",
    "\n",
    "# Пример использования:\n",
    "f = lambda x: np.array([x[0]**2 + x[1]**2 - 1, x[0] - x[1]])\n",
    "x0 = np.array([1.0, 1.0])\n",
    "eps = 1e-6\n",
    "\n",
    "solution = newton_method(f, x0, eps)\n",
    "print(\"Решение системы: \", solution)\n"
   ]
  },
  {
   "cell_type": "code",
   "execution_count": null,
   "id": "6f76359b",
   "metadata": {},
   "outputs": [],
   "source": []
  }
 ],
 "metadata": {
  "kernelspec": {
   "display_name": "Python 3 (ipykernel)",
   "language": "python",
   "name": "python3"
  },
  "language_info": {
   "codemirror_mode": {
    "name": "ipython",
    "version": 3
   },
   "file_extension": ".py",
   "mimetype": "text/x-python",
   "name": "python",
   "nbconvert_exporter": "python",
   "pygments_lexer": "ipython3",
   "version": "3.11.2"
  }
 },
 "nbformat": 4,
 "nbformat_minor": 5
}
