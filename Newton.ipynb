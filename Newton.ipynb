{
 "cells": [
  {
   "cell_type": "code",
   "execution_count": 45,
   "id": "6f76359b",
   "metadata": {},
   "outputs": [
    {
     "name": "stdout",
     "output_type": "stream",
     "text": [
      "Уравнение: [1 + 2*x1 - x2 - x2*x1 + x1**2 - 2*x2**2, -5 + 3*x2 + x2*x1 + 2*x1**2 - x2**2]. Число итераций: 9\n",
      "Решение: [1. 1.], eps = 1e-07\n"
     ]
    }
   ],
   "source": [
    "import numpy as np\n",
    "import symengine as sm\n",
    "\n",
    "x_0 = np.array([1, 10])\n",
    "x1, x2 = sm.symbols('x1 x2') \n",
    "x = [x1, x2]\n",
    "f = sm.sympify(['x1**2 - 2*x2**2 - x1*x2 + 2*x1 - x2 + 1','2*x1**2 - x2**2 + x1*x2 + 3*x2 - 5'] )\n",
    "\n",
    "def Jacobian(f, x):\n",
    "    J = sm.zeros(len(f),len(x))\n",
    "    for i, fi in enumerate(f):\n",
    "        for j, s in enumerate(x):\n",
    "            J[i,j] = sm.diff(fi, s)\n",
    "    return J\n",
    "def score_matrix(f, x, y):\n",
    "    a = []\n",
    "    for i in range(len(y)):\n",
    "        a.append((x[i], y[i]))\n",
    "    if type(f) == list:\n",
    "        g = []\n",
    "        for j in f:\n",
    "            g.append(j.subs(dict(a)))\n",
    "    else:\n",
    "        g = f.subs(dict(a))\n",
    "    return g\n",
    "\n",
    "def Newton(x_0, eps, f=f, x=x):\n",
    "    s = 10000\n",
    "    iteration_counter = 0\n",
    "    while abs (s > eps) and iteration_counter < 10000:\n",
    "        try:\n",
    "            x_1 = np.array(x_0).astype(float) + np.linalg.solve(np.array(score_matrix(Jacobian(f, x), x, x_0)).astype(float),\\\n",
    "                                        -np.array(score_matrix(f, x, x_0)).astype(float))\n",
    "        except ZeroDivisionError as err:\n",
    "            print('Ошибка: {}'.format(err))\n",
    "            sys.exit(1)\n",
    "        s = np.linalg.norm(x_1 - x_0)\n",
    "        x_0 = x_1\n",
    "        iteration_counter += 1\n",
    "    if s > eps:\n",
    "        iteration_counter = -1\n",
    "    return x_0, iteration_counter\n",
    "tol = 1e-7\n",
    "sol, no_iterations = Newton(x_0, tol)\n",
    "if no_iterations > 0:\n",
    "    print('Уравнение: {}. Число итераций: {}'.format(f, no_iterations))\n",
    "    print('Решение: {}, eps = {}'.format(sol, tol))\n",
    "else:\n",
    "    print('Решение не найдено!')"
   ]
  },
  {
   "cell_type": "code",
   "execution_count": null,
   "id": "7b43af28",
   "metadata": {},
   "outputs": [],
   "source": []
  }
 ],
 "metadata": {
  "kernelspec": {
   "display_name": "Python 3 (ipykernel)",
   "language": "python",
   "name": "python3"
  },
  "language_info": {
   "codemirror_mode": {
    "name": "ipython",
    "version": 3
   },
   "file_extension": ".py",
   "mimetype": "text/x-python",
   "name": "python",
   "nbconvert_exporter": "python",
   "pygments_lexer": "ipython3",
   "version": "3.11.2"
  }
 },
 "nbformat": 4,
 "nbformat_minor": 5
}
